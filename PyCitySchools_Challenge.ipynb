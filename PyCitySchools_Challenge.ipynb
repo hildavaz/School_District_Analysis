{
 "cells": [
  {
   "cell_type": "code",
   "execution_count": null,
   "id": "8146aa03-0225-41b5-b112-4d4fe17fed0c",
   "metadata": {},
   "outputs": [],
   "source": [
    "# Add the Pandas dependency.\n",
    "import pandas as pd"
   ]
  },
  {
   "cell_type": "code",
   "execution_count": null,
   "id": "707e91dd-e594-454c-a0ff-c18279369030",
   "metadata": {},
   "outputs": [],
   "source": [
    "# Dependencies and Setup\n",
    "import pandas as pd\n",
    "\n",
    "# File to Load (Remember to change the path if needed.)\n",
    "school_data_to_load = \"Resources/schools_complete.csv\"\n",
    "student_data_to_load = \"Resources/students_complete.csv\"\n",
    "\n",
    "# Read the School Data and Student Data and store into a Pandas DataFrame\n",
    "school_data_df = pd.read_csv(school_data_to_load)\n",
    "student_data_df = pd.read_csv(student_data_to_load)\n",
    "\n",
    "# Cleaning Student Names and Replacing Substrings in a Python String\n",
    "# Add each prefix and suffix to remove to a list.\n",
    "prefixes_suffixes = [\"Dr. \", \"Mr. \",\"Ms. \", \"Mrs. \", \"Miss \", \" MD\", \" DDS\", \" DVM\", \" PhD\"]\n",
    "\n",
    "# Iterate through the words in the \"prefixes_suffixes\" list and replace them with an empty space, \"\".\n",
    "for word in prefixes_suffixes:\n",
    "    student_data_df[\"student_name\"] = student_data_df[\"student_name\"].str.replace(word,\"\")\n",
    "\n",
    "# Check names.\n",
    "student_data_df.head(10)"
   ]
  },
  {
   "cell_type": "markdown",
   "id": "da91efd2-cfbf-4d82-a944-a726f32b1f23",
   "metadata": {},
   "source": [
    "## Deliverable 1: Replace the reading and math scores.\n",
    "\n",
    "### Replace the 9th grade reading and math scores at Thomas High School with NaN."
   ]
  },
  {
   "cell_type": "code",
   "execution_count": null,
   "id": "4c5df594-0341-4b27-afc9-053c25484a73",
   "metadata": {},
   "outputs": [],
   "source": [
    "# Install numpy using conda install numpy or pip install numpy. \n",
    "# Step 1. Import numpy as np.\n",
    "import numpy as np\n"
   ]
  },
  {
   "cell_type": "code",
   "execution_count": null,
   "id": "355461d8-c86b-4f6f-8811-a0bfcdc81739",
   "metadata": {},
   "outputs": [],
   "source": [
    "# Step 2. Use the loc method on the student_data_df to select all the reading scores from the 9th grade at Thomas High School and replace them with NaN.\n",
    "student_data_df.loc[(student_data_df[\"school_name\"] == \"Thomas High School\") &\n",
    "                    (student_data_df[\"grade\"] == \"9th\") & (student_data_df[\"reading_score\"]>0),\"reading_score\"] = np.nan\n",
    "student_data_df\n"
   ]
  },
  {
   "cell_type": "code",
   "execution_count": null,
   "id": "75765559-fc66-4f8e-b496-769884fd5b8c",
   "metadata": {},
   "outputs": [],
   "source": [
    "#  Step 3. Refactor the code in Step 2 to replace the math scores with NaN.\n",
    "student_data_df.loc[(student_data_df[\"school_name\"] == \"Thomas High School\") &\n",
    "                    (student_data_df[\"grade\"] == \"9th\") & (student_data_df[\"math_score\"]>0),\"math_score\"] = np.nan\n",
    "student_data_df"
   ]
  },
  {
   "cell_type": "code",
   "execution_count": null,
   "id": "001d5ac5-6dad-416e-987a-304305969ac0",
   "metadata": {},
   "outputs": [],
   "source": [
    "#  Step 4. Check the student data for NaN's. \n",
    "student_data_df\n"
   ]
  },
  {
   "cell_type": "markdown",
   "id": "e2cab945-8db6-4cad-a1a0-f080daefde3a",
   "metadata": {},
   "source": [
    "## Deliverable 2 : Repeat the school district analysis"
   ]
  },
  {
   "cell_type": "markdown",
   "id": "45d41610-4327-4d03-8102-9c97e18b2687",
   "metadata": {},
   "source": [
    "### District Summary"
   ]
  },
  {
   "cell_type": "code",
   "execution_count": null,
   "id": "a7795fdd-1e84-486c-a236-3b8961a3a6b0",
   "metadata": {},
   "outputs": [],
   "source": [
    "# Combine the data into a single dataset\n",
    "school_data_complete_df = pd.merge(student_data_df, school_data_df, how=\"left\", on=[\"school_name\", \"school_name\"])\n",
    "school_data_complete_df.head()"
   ]
  },
  {
   "cell_type": "code",
   "execution_count": null,
   "id": "2ba01900-aa03-4aca-9603-8e138697f50e",
   "metadata": {},
   "outputs": [],
   "source": [
    "# Calculate the Totals (Schools and Students)\n",
    "school_count = len(school_data_complete_df[\"school_name\"].unique())\n",
    "student_count = school_data_complete_df[\"Student ID\"].count()\n",
    "\n",
    "# Calculate the Total Budget\n",
    "total_budget = school_data_df[\"budget\"].sum()\n",
    "total_budget"
   ]
  },
  {
   "cell_type": "code",
   "execution_count": null,
   "id": "7920ef12-db7c-4d19-9c27-fb9d8dace09a",
   "metadata": {},
   "outputs": [],
   "source": [
    "# Calculate the Average Scores using the \"clean_student_data\".\n",
    "average_reading_score = school_data_complete_df[\"reading_score\"].mean()\n",
    "average_math_score = school_data_complete_df[\"math_score\"].mean()\n",
    "average_math_score "
   ]
  },
  {
   "cell_type": "code",
   "execution_count": null,
   "id": "4f175530-6557-4544-90f5-f21ea1d76642",
   "metadata": {},
   "outputs": [],
   "source": [
    "# Step 1. Get the number of students that are in ninth grade at Thomas High School. ##youtub tutorial\n",
    "# These students have no grades. \n",
    "THS_9th_grade = school_data_complete_df.loc[(school_data_complete_df[\"school_name\"] == \"Thomas High School\") \n",
    "                                            & (school_data_complete_df[\"grade\"] == \"9th\"), \"student_name\"].count()\n",
    "# Get the total student count \n",
    "student_count = school_data_complete_df[\"Student ID\"].count()\n",
    "\n",
    "\n",
    "# Step 2. Subtract the number of students that are in ninth grade at \n",
    "# Thomas High School from the total student count to get the new total student count.\n",
    "student_count_lessTHS9th = student_count - THS_9th_grade\n",
    "\n",
    "print(THS_9th_grade)\n",
    "print(student_count)\n",
    "print(student_count_lessTHS9th)\n"
   ]
  },
  {
   "cell_type": "code",
   "execution_count": null,
   "id": "b9871b80-3f9d-4e07-b871-f33d1c2096aa",
   "metadata": {},
   "outputs": [],
   "source": [
    "# Calculate the passing rates using the \"clean_student_data\".\n",
    "passing_math_count = school_data_complete_df[(school_data_complete_df[\"math_score\"] >= 70)].count()[\"student_name\"]\n",
    "passing_reading_count = school_data_complete_df[(school_data_complete_df[\"reading_score\"] >= 70)].count()[\"student_name\"]\n",
    "passing_math_count \n",
    "passing_reading_count"
   ]
  },
  {
   "cell_type": "code",
   "execution_count": null,
   "id": "fca31f7b-b855-4b8e-8c98-c6872e0c626c",
   "metadata": {},
   "outputs": [],
   "source": [
    "# Step 3. Calculate the passing percentages with the new total student count.\n",
    "passing_math_percentage = passing_math_count / float (student_count)*100\n",
    "\n",
    "passing_reading_percentage = passing_reading_count / float (student_count)*100\n",
    "print(passing_math_percentage)\n",
    "print(passing_reading_percentage)"
   ]
  },
  {
   "cell_type": "code",
   "execution_count": null,
   "id": "c0c1cefc-d27c-4426-a89b-1466d96403bd",
   "metadata": {},
   "outputs": [],
   "source": [
    "# Calculate the students who passed both reading and math.\n",
    "passing_math_reading = school_data_complete_df[(school_data_complete_df[\"math_score\"] >= 70)\n",
    "                                               & (school_data_complete_df[\"reading_score\"] >= 70)]\n",
    "\n",
    "# Calculate the number of students that passed both reading and math.\n",
    "overall_passing_math_reading_count = passing_math_reading[\"student_name\"].count()\n",
    "\n",
    "\n",
    "# Step 4.Calculate the overall passing percentage with new total student count.\n",
    "overall_passing_percentage = overall_passing_math_reading_count / student_count * 100\n",
    "\n",
    "overall_passing_percentage"
   ]
  },
  {
   "cell_type": "code",
   "execution_count": null,
   "id": "dafed2f6-aca5-474e-a3ef-e45d83f6b64a",
   "metadata": {},
   "outputs": [],
   "source": [
    "# Create a DataFrame\n",
    "district_summary_df = pd.DataFrame(\n",
    "          [{\"Total Schools\": school_count, \n",
    "          \"Total Students\": student_count, \n",
    "          \"Total Budget\": total_budget,\n",
    "          \"Average Math Score\": average_math_score, \n",
    "          \"Average Reading Score\": average_reading_score,\n",
    "          \"% Passing Math\": passing_math_percentage,\n",
    "         \"% Passing Reading\": passing_reading_percentage,\n",
    "        \"% Overall Passing\": overall_passing_percentage}])\n",
    "\n",
    "\n",
    "\n",
    "# Format the \"Total Students\" to have the comma for a thousands separator.\n",
    "district_summary_df[\"Total Students\"] = district_summary_df[\"Total Students\"].map(\"{:,}\".format)\n",
    "# Format the \"Total Budget\" to have the comma for a thousands separator, a decimal separator and a \"$\".\n",
    "district_summary_df[\"Total Budget\"] = district_summary_df[\"Total Budget\"].map(\"${:,.2f}\".format)\n",
    "# Format the columns.\n",
    "district_summary_df[\"Average Math Score\"] = district_summary_df[\"Average Math Score\"].map(\"{:.1f}\".format)\n",
    "district_summary_df[\"Average Reading Score\"] = district_summary_df[\"Average Reading Score\"].map(\"{:.1f}\".format)\n",
    "district_summary_df[\"% Passing Math\"] = district_summary_df[\"% Passing Math\"].map(\"{:.2f}\".format)\n",
    "district_summary_df[\"% Passing Reading\"] = district_summary_df[\"% Passing Reading\"].map(\"{:.2f}\".format)\n",
    "district_summary_df[\"% Overall Passing\"] = district_summary_df[\"% Overall Passing\"].map(\"{:.2f}\".format)\n",
    "\n",
    "# Display the data frame\n",
    "district_summary_df"
   ]
  },
  {
   "cell_type": "markdown",
   "id": "fbd4dcdb-8ec5-42f0-b371-20c721c091ff",
   "metadata": {},
   "source": [
    "##  School Summary"
   ]
  },
  {
   "cell_type": "code",
   "execution_count": null,
   "id": "ee55eb39-71bb-440c-937d-f1f991648a05",
   "metadata": {},
   "outputs": [],
   "source": [
    "# Determine the School Type\n",
    "per_school_types = school_data_df.set_index([\"school_name\"])[\"type\"]\n",
    "\n",
    "# Calculate the total student count.\n",
    "per_school_counts = school_data_complete_df[\"school_name\"].value_counts()\n",
    "\n",
    "# Calculate the total school budget and per capita spending\n",
    "per_school_budget = school_data_complete_df.groupby([\"school_name\"]).mean()[\"budget\"]\n",
    "# Calculate the per capita spending.\n",
    "per_school_capita = per_school_budget / per_school_counts\n",
    "\n",
    "# Calculate the average test scores.\n",
    "per_school_math = school_data_complete_df.groupby([\"school_name\"]).mean()[\"math_score\"]\n",
    "per_school_reading = school_data_complete_df.groupby([\"school_name\"]).mean()[\"reading_score\"]\n",
    "\n",
    "# Calculate the passing scores by creating a filtered DataFrame.\n",
    "per_school_passing_math = school_data_complete_df[(school_data_complete_df[\"math_score\"] >= 70)]\n",
    "per_school_passing_reading = school_data_complete_df[(school_data_complete_df[\"reading_score\"] >= 70)]\n",
    "\n",
    "# Calculate the number of students passing math and passing reading by school.\n",
    "per_school_passing_math = per_school_passing_math.groupby([\"school_name\"]).count()[\"student_name\"]\n",
    "per_school_passing_reading = per_school_passing_reading.groupby([\"school_name\"]).count()[\"student_name\"]\n",
    "\n",
    "# Calculate the percentage of passing math and reading scores per school.\n",
    "per_school_passing_math = per_school_passing_math / per_school_counts * 100\n",
    "per_school_passing_reading = per_school_passing_reading / per_school_counts * 100\n",
    "\n",
    "# Calculate the students who passed both reading and math.\n",
    "per_passing_math_reading = school_data_complete_df[(school_data_complete_df[\"reading_score\"] >= 70)\n",
    "                                               & (school_data_complete_df[\"math_score\"] >= 70)]\n",
    "\n",
    "# Calculate the number of students passing math and passing reading by school.\n",
    "per_passing_math_reading = per_passing_math_reading.groupby([\"school_name\"]).count()[\"student_name\"]\n",
    "\n",
    "# Calculate the percentage of passing math and reading scores per school.\n",
    "per_overall_passing_percentage = per_passing_math_reading / per_school_counts * 100"
   ]
  },
  {
   "cell_type": "code",
   "execution_count": null,
   "id": "48e25f7c-8df3-4fcf-bbea-a781269fcd35",
   "metadata": {},
   "outputs": [],
   "source": [
    "# Create the DataFrame\n",
    "per_school_summary_df = pd.DataFrame({\n",
    "    \"School Type\": per_school_types,\n",
    "    \"Total Students\": per_school_counts,\n",
    "    \"Total School Budget\": per_school_budget,\n",
    "    \"Per Student Budget\": per_school_capita,\n",
    "    \"Average Math Score\": per_school_math,\n",
    "    \"Average Reading Score\": per_school_reading,\n",
    "    \"% Passing Math\": per_school_passing_math,\n",
    "    \"% Passing Reading\": per_school_passing_reading,\n",
    "    \"% Overall Passing\": per_overall_passing_percentage})\n",
    "\n",
    "\n",
    "# per_school_summary_df.head(5)"
   ]
  },
  {
   "cell_type": "code",
   "execution_count": null,
   "id": "ac3fced1-50e1-425a-aa19-2c24b18e8cca",
   "metadata": {},
   "outputs": [],
   "source": [
    "# Format the Total School Budget and the Per Student Budget\n",
    "per_school_summary_df[\"Total School Budget\"] = per_school_summary_df[\"Total School Budget\"].map(\"${:,.2f}\".format)\n",
    "per_school_summary_df[\"Per Student Budget\"] = per_school_summary_df[\"Per Student Budget\"].map(\"${:,.2f}\".format)\n",
    "\n",
    "# Display the data frame\n",
    "per_school_summary_df"
   ]
  },
  {
   "cell_type": "code",
   "execution_count": null,
   "id": "62e7619d-11cc-421a-a1e9-dbe3d20d5e34",
   "metadata": {},
   "outputs": [],
   "source": [
    "# Step 5.  Get the number of 10th-12th graders from Thomas High School (THS).\n",
    "THS_10_12_graders = len(school_data_complete_df[(student_data_df[\"school_name\"] == \"Thomas High School\")\n",
    "                                       & ((student_data_df[\"grade\"] == \"10th\") | (student_data_df[\"grade\"] == \"11th\") |\n",
    "                                       (student_data_df[\"grade\"] == \"12th\"))])\n",
    "THS_10_12_graders"
   ]
  },
  {
   "cell_type": "code",
   "execution_count": null,
   "id": "cf630524-6101-4fff-918b-49c7c15d7130",
   "metadata": {},
   "outputs": [],
   "source": [
    "# Step 6. Get all the students passing math from THS\n",
    "THS_passing_math = len(school_data_complete_df[(student_data_df[\"math_score\"] >= 70)\n",
    "                                       & (student_data_df[\"school_name\"] == \"Thomas High School\")\n",
    "                                       & ((student_data_df[\"grade\"] == \"10th\") | (student_data_df[\"grade\"] == \"11th\") |\n",
    "                                       (student_data_df[\"grade\"] == \"12th\"))])\n",
    "THS_passing_math                               "
   ]
  },
  {
   "cell_type": "code",
   "execution_count": null,
   "id": "fb91f594-f144-475b-bed3-ed7ffa595b2d",
   "metadata": {},
   "outputs": [],
   "source": [
    "# Step 7. Get all the students passing reading from THS\n",
    "THS_passing_reading = student_data_df.loc[(student_data_df[\"reading_score\"] >= 70)\n",
    "                                       & (student_data_df[\"school_name\"] == \"Thomas High School\")\n",
    "                                       & ((student_data_df[\"grade\"] == \"10th\") | (student_data_df[\"grade\"] == \"11th\") |\n",
    "                                       (student_data_df[\"grade\"] == \"12th\"))]\n",
    "THS_passing_reading    \n"
   ]
  },
  {
   "cell_type": "code",
   "execution_count": null,
   "id": "ac0dd01f-b6ec-4b18-8d75-9baa37d17327",
   "metadata": {},
   "outputs": [],
   "source": [
    "# Step 8. Get all the students passing math and reading from THS\n",
    "THS_passing_math_reading = student_data_df.loc[(student_data_df[\"reading_score\"] >= 70)\n",
    "                                    &(student_data_df[\"math_score\"] >= 70)\n",
    "                                    & (student_data_df[\"school_name\"] == \"Thomas High School\")\n",
    "                                    & ((student_data_df[\"grade\"] == \"10th\") | (student_data_df[\"grade\"] == \"11th\") |\n",
    "                                       (student_data_df[\"grade\"] == \"12th\"))]\n",
    "THS_passing_math_reading"
   ]
  },
  {
   "cell_type": "code",
   "execution_count": null,
   "id": "884fbdb5-5182-4865-bb7b-46f54f567293",
   "metadata": {},
   "outputs": [],
   "source": [
    "# Step 9. Calculate the percentage of 10th-12th grade students passing math from Thomas High School. \n",
    "THS_passing_math_percentage = THS_passing_math / float (THS_10_12_graders) * 100\n",
    "THS_passing_math_percentage"
   ]
  },
  {
   "cell_type": "code",
   "execution_count": null,
   "id": "24493461-0e4b-4c24-9d5c-1a211b6b639d",
   "metadata": {},
   "outputs": [],
   "source": [
    "# Step 10. Calculate the percentage of 10th-12th grade students passing reading from Thomas High School.\n",
    "THS_passing_reading_percentage = THS_passing_reading.shape[0] / float (THS_10_12_graders) * 100\n",
    "THS_passing_reading_percentage "
   ]
  },
  {
   "cell_type": "code",
   "execution_count": null,
   "id": "7104306e-80cf-49eb-8e6a-92cedb79c186",
   "metadata": {},
   "outputs": [],
   "source": [
    "# Step 11. Calculate the overall passing percentage of 10th-12th grade from Thomas High School. \n",
    "\n",
    "THS_overall_passing_percentage = THS_passing_math_reading.shape[0] / float (THS_10_12_graders) * 100\n",
    "THS_overall_passing_percentage"
   ]
  },
  {
   "cell_type": "code",
   "execution_count": null,
   "id": "31706b08-a190-44d2-a147-9248b01e04f6",
   "metadata": {},
   "outputs": [],
   "source": [
    "# Step 12. Replace the passing math percent for Thomas High School in the per_school_summary_df.\n",
    "per_school_summary_df.loc[[\"Thomas High School\"],[\"% Passing Math\"]] = THS_passing_math_percentage\n",
    "THS_passing_math_percentage\n"
   ]
  },
  {
   "cell_type": "code",
   "execution_count": null,
   "id": "29870ae0-1814-4c4c-862f-5556f04d4224",
   "metadata": {},
   "outputs": [],
   "source": [
    "# Step 13. Replace the passing reading percentage for Thomas High School in the per_school_summary_df.\n",
    "per_school_summary_df.loc[[\"Thomas High School\"],[\"% Passing Reading\"]] = THS_passing_reading_percentage\n",
    "THS_passing_reading_percentage\n"
   ]
  },
  {
   "cell_type": "code",
   "execution_count": null,
   "id": "2f402f96-6af9-4447-9733-c2eeabbb1032",
   "metadata": {},
   "outputs": [],
   "source": [
    "# Step 14. Replace the overall passing percentage for Thomas High School in the per_school_summary_df.\n",
    "per_school_summary_df.loc[[\"Thomas High School\"],[\"% Overall Reading\"]] = THS_passing_math_reading\n",
    "THS_passing_math_reading\n"
   ]
  },
  {
   "cell_type": "code",
   "execution_count": null,
   "id": "08f848e1-6b90-44ad-95d6-d8b91093ce86",
   "metadata": {},
   "outputs": [],
   "source": [
    "# per_school_summary_df\n",
    "per_school_summary_df.tail(3)"
   ]
  },
  {
   "cell_type": "markdown",
   "id": "e9b3cb24-110d-499e-afcc-f79d2f4a5bb1",
   "metadata": {},
   "source": [
    "## High and Low Performing Schools "
   ]
  },
  {
   "cell_type": "code",
   "execution_count": null,
   "id": "d4532c02-0ddd-4c47-b38a-c8ffa19a28fa",
   "metadata": {
    "scrolled": true
   },
   "outputs": [],
   "source": [
    "# Sort and show top five schools. ##fron the practice \n",
    "Top_5_schools_df = per_school_summary_df.sort_values([\"% Overall Passing\"], ascending = False)\n",
    "\n",
    "Top_5_schools_df.head(5)                                                   "
   ]
  },
  {
   "cell_type": "code",
   "execution_count": null,
   "id": "ee100151-8774-4adc-bb1d-45f087be048d",
   "metadata": {},
   "outputs": [],
   "source": [
    "# Sort and show low five schools.\n",
    "Bottom_5_schools_df = per_school_summary_df.sort_values([\"% Overall Passing\"], ascending = False)\n",
    "\n",
    "Bottom_5_schools_df.head(5)                                                   "
   ]
  },
  {
   "cell_type": "markdown",
   "id": "7dd681ec-d68c-46fb-a7b1-b2db7dbf4282",
   "metadata": {},
   "source": [
    "## Math and Reading Scores by Grade"
   ]
  },
  {
   "cell_type": "code",
   "execution_count": null,
   "id": "9a7dccd2-6719-4457-a625-d79941fe33f1",
   "metadata": {},
   "outputs": [],
   "source": [
    "# Create a Series of scores by grade levels using conditionals.\n",
    "ninth_graders = school_data_complete_df[(school_data_complete_df[\"grade\"] == \"9th\")]\n",
    "tenth_graders = school_data_complete_df[(school_data_complete_df[\"grade\"] == \"10th\")]\n",
    "eleventh_graders = school_data_complete_df[(school_data_complete_df[\"grade\"] == \"11th\")]\n",
    "twelfth_graders = school_data_complete_df[(school_data_complete_df[\"grade\"] == \"12th\")]\n",
    "\n",
    "# Group each school Series by the school name for the average math score.\n",
    "ninth_graders_math_scores = ninth_graders.groupby([\"school_name\"]).mean()[\"math_score\"]\n",
    "tenth_graders_math_scores = tenth_graders.groupby([\"school_name\"]).mean()[\"math_score\"]\n",
    "eleventh_graders_math_scores = eleventh_graders.groupby([\"school_name\"]).mean()[\"math_score\"]\n",
    "twelfth_graders_math_scores = twelfth_graders.groupby([\"school_name\"]).mean()[\"math_score\"]\n",
    "\n",
    "# Group each school Series by the school name for the average reading score.\n",
    "ninth_graders_reading_scores = ninth_graders.groupby([\"school_name\"]).mean()[\"reading_score\"]\n",
    "tenth_graders_reading_scores = tenth_graders.groupby([\"school_name\"]).mean()[\"reading_score\"]\n",
    "eleventh_graders_reading_scores = eleventh_graders.groupby([\"school_name\"]).mean()[\"reading_score\"]\n",
    "twelfth_graders_reading_scores = twelfth_graders.groupby([\"school_name\"]).mean()[\"reading_score\"]\n"
   ]
  },
  {
   "cell_type": "code",
   "execution_count": null,
   "id": "69ce15ce-3733-4c35-8993-23b8feb6b4a1",
   "metadata": {},
   "outputs": [],
   "source": [
    "# Combine each Series for average math scores by school into single data frame.\n",
    "combine_math_scores_by_grade = pd.DataFrame({\n",
    "    \"9th\":ninth_graders_math_scores,\n",
    "    \"10th\": tenth_graders_math_scores,\n",
    "    \"11th\":eleventh_graders_math_scores,\n",
    "    \"12th\":twelfth_graders_math_scores})\n",
    "combine_math_scores_by_grade"
   ]
  },
  {
   "cell_type": "code",
   "execution_count": null,
   "id": "8934c4e0-2189-4903-ab24-feeb24c44475",
   "metadata": {},
   "outputs": [],
   "source": [
    "##Tutoring help me change the data from object to float\n",
    "combine_math_scores_by_grade[[\"9th\",\"10th\",\"11th\",\"12th\"]] = combine_math_scores_by_grade[[\"9th\",\"10th\",\"11th\",\"12th\"]].astype(float)\n",
    "combine_math_scores_by_grade.info()"
   ]
  },
  {
   "cell_type": "code",
   "execution_count": null,
   "id": "d7e2a349-9cf5-4ae8-a8df-3a8a78f096d5",
   "metadata": {},
   "outputs": [],
   "source": [
    "# Combine each Series for average reading scores by school into single data frame.\n",
    "combine_reading_scores_by_grade = pd.DataFrame({\n",
    "    \"9th\":ninth_graders_reading_scores,\n",
    "    \"10th\":tenth_graders_reading_scores,\n",
    "    \"11th\":eleventh_graders_reading_scores,\n",
    "    \"12th\":twelfth_graders_reading_scores})\n",
    "combine_reading_scores_by_grade"
   ]
  },
  {
   "cell_type": "code",
   "execution_count": null,
   "id": "9afef642-25ab-4585-9337-6f309d736bcd",
   "metadata": {},
   "outputs": [],
   "source": [
    "##Tutoring help me change the data from object to float\n",
    "combine_reading_scores_by_grade[[\"9th\",\"10th\",\"11th\",\"12th\"]] = combine_reading_scores_by_grade[[\"9th\",\"10th\",\"11th\",\"12th\"]].astype(float)\n",
    "combine_reading_scores_by_grade.info()"
   ]
  },
  {
   "cell_type": "code",
   "execution_count": null,
   "id": "bd260f80-a7cf-4b37-9e42-eb515a97675b",
   "metadata": {},
   "outputs": [],
   "source": [
    "# Format each grade column.\n",
    "combine_math_scores_by_grade[\"9th\"] = combine_math_scores_by_grade[\"9th\"].map(\"{:.1f}\".format)\n",
    "combine_math_scores_by_grade[\"10th\"] = combine_math_scores_by_grade[\"10th\"].map(\"{:.1f}\".format)\n",
    "combine_math_scores_by_grade[\"11th\"] = combine_math_scores_by_grade[\"11th\"].map(\"{:.1f}\".format)\n",
    "combine_math_scores_by_grade[\"12th\"] = combine_math_scores_by_grade[\"12th\"].map(\"{:.1f}\".format)\n",
    "\n",
    "combine_math_scores_by_grade = combine_math_scores_by_grade[[\"9th\",\"10th\",\"11th\",\"12th\"]]\n",
    "\n",
    "combine_reading_scores_by_grade[\"9th\"] = combine_reading_scores_by_grade[\"9th\"].map(\"{:.1f}\".format)\n",
    "combine_reading_scores_by_grade[\"10th\"] = combine_reading_scores_by_grade[\"10th\"].map(\"{:.1f}\".format)\n",
    "combine_reading_scores_by_grade[\"11th\"] = combine_reading_scores_by_grade[\"11th\"].map(\"{:.1f}\".format)\n",
    "combine_reading_scores_by_grade[\"12th\"] = combine_reading_scores_by_grade[\"12th\"].map(\"{:.1f}\".format)\n",
    "\n",
    "combine_reading_scores_by_grade = combine_reading_scores_by_grade[[\"9th\",\"10th\",\"11th\",\"12th\"]]"
   ]
  },
  {
   "cell_type": "code",
   "execution_count": null,
   "id": "fcadfce3-479b-4097-ad0e-1c2a37bbfceb",
   "metadata": {},
   "outputs": [],
   "source": [
    "# Remove the index.\n",
    "combine_math_scores_by_grade.index.name = None\n",
    "\n",
    "# Display the data frame\n",
    "combine_math_scores_by_grade"
   ]
  },
  {
   "cell_type": "code",
   "execution_count": null,
   "id": "a822dc3c-a37b-4c70-9f0e-0e5a140a4262",
   "metadata": {},
   "outputs": [],
   "source": [
    "## Remove the index.\n",
    "combine_reading_scores_by_grade.index.name = None\n",
    "\n",
    "\n",
    "# Display the data frame\n",
    "combine_reading_scores_by_grade"
   ]
  },
  {
   "cell_type": "markdown",
   "id": "e083026f-8b5a-4974-81f8-dda3b7a803f4",
   "metadata": {},
   "source": [
    "## Scores by School Spending"
   ]
  },
  {
   "cell_type": "code",
   "execution_count": null,
   "id": "04b38c5f-08f0-4ff9-b99f-82c01fc42372",
   "metadata": {},
   "outputs": [],
   "source": [
    "# Establish the spending bins and group names.##from the class\n",
    "spending_bins = [0, 585, 630, 645, 675]\n",
    "group_names = [\"<$584\", \"$585-629\", \"$630-644\", \"$645-675\"]\n",
    "\n",
    "# Categorize spending based on the bins.\n",
    "per_school_summary_df[\"Spending Ranges (Per Student)\"] = pd.cut(per_school_capita, spending_bins, labels=group_names)\n",
    "per_school_summary_df"
   ]
  },
  {
   "cell_type": "code",
   "execution_count": null,
   "id": "b4911e14-80c5-40ec-8e0c-fce14a192317",
   "metadata": {},
   "outputs": [],
   "source": [
    "# Calculate averages for the desired columns. \n",
    "spending_math_scores = per_school_summary_df.groupby([\"Spending Ranges (Per Student)\"]).mean()[\"Average Math Score\"]\n",
    "spending_reading_scores = per_school_summary_df.groupby([\"Spending Ranges (Per Student)\"]).mean()[\"Average Reading Score\"]\n",
    "overall_passing_scores = per_school_summary_df.groupby([\"Spending Ranges (Per Student)\"]).mean()[\"% Overall Passing\"]"
   ]
  },
  {
   "cell_type": "code",
   "execution_count": null,
   "id": "69925155-647f-4228-9327-2fd6c0e9eacc",
   "metadata": {},
   "outputs": [],
   "source": [
    "# Create the DataFrame\n",
    "spending_summary_df = pd.DataFrame({\n",
    "    \"Average Math Score\" : spending_math_scores,\n",
    "    \"Average Reading Score\" : spending_reading_scores,\n",
    "    \"% Overall Passing\" :overall_passing_scores})"
   ]
  },
  {
   "cell_type": "code",
   "execution_count": null,
   "id": "5d443d1c-e9aa-4e63-906d-d2b61ecdaa5e",
   "metadata": {},
   "outputs": [],
   "source": [
    "# Format the DataFrame \n",
    "spending_summary_df[\"Average Math Score\"] = spending_summary_df[\"Average Math Score\"].map(\"{:.1f}\".format)\n",
    "spending_summary_df[\"Average Reading Score\"] = spending_summary_df[\"Average Reading Score\"].map(\"{:.1f}\".format)\n",
    "spending_summary_df[\"% Overall Passing\"] = spending_summary_df[\"% Overall Passing\"].map(\"{:.2f}\".format)\n",
    "spending_summary_df"
   ]
  },
  {
   "cell_type": "markdown",
   "id": "dc641187-0e56-40c1-8186-835c561e5e42",
   "metadata": {},
   "source": [
    "## Scores by School Size"
   ]
  },
  {
   "cell_type": "code",
   "execution_count": null,
   "id": "3c2562a4-aeb7-4b71-bd3e-d8b8f0620bac",
   "metadata": {},
   "outputs": [],
   "source": [
    "# Establish the bins. ##zoom class recording\n",
    "size_bins = [0, 1000, 2000, 5000]\n",
    "group_names = [\"Small(<1000)\", \"Medium (1000-2000)\", \"Large (2000-5000)\"]             \n",
    "\n",
    "# Categorize spending based on the bins.\n",
    "per_school_summary_df[\"School Size\"] = pd.cut(per_school_summary_df[\"Total Students\"], size_bins, labels=group_names)\n",
    "per_school_summary_df.tail(1)                                            \n"
   ]
  },
  {
   "cell_type": "code",
   "execution_count": null,
   "id": "ced3efdd-f91d-4d9a-b553-d8dc04319bc7",
   "metadata": {},
   "outputs": [],
   "source": [
    "# Calculate averages for the desired columns. \n",
    "size_math_scores = per_school_summary_df.groupby([\"Spending Ranges (Per Student)\"]).mean()[\"Average Math Score\"]\n",
    "size_reading_scores = per_school_summary_df.groupby([\"Spending Ranges (Per Student)\"]).mean()[\"Average Reading Score\"]\n",
    "size_overall_passing_scores = per_school_summary_df.groupby([\"Spending Ranges (Per Student)\"]).mean()[\"% Overall Passing\"]"
   ]
  },
  {
   "cell_type": "code",
   "execution_count": null,
   "id": "e6c4e295-083a-43fa-8cf4-7a3c3937785e",
   "metadata": {
    "scrolled": true
   },
   "outputs": [],
   "source": [
    "# Assemble into DataFrame. \n",
    "size_summary_df = pd.DataFrame({\n",
    "    \"Average Math Score\" : size_math_scores,\n",
    "    \"Average Reading Score\" : size_reading_scores,\n",
    "    \"% Overall Passing\" :size_overall_passing_scores})"
   ]
  },
  {
   "cell_type": "code",
   "execution_count": null,
   "id": "7987d695-bc5d-4ffa-954e-c1e703753e12",
   "metadata": {},
   "outputs": [],
   "source": [
    "# Format the DataFrame  \n",
    "size_summary_df[\"Average Math Score\"] = size_summary_df[\"Average Math Score\"].map(\"{:.1f}\".format)\n",
    "size_summary_df[\"Average Reading Score\"] = size_summary_df[\"Average Reading Score\"].map(\"{:.1f}\".format)\n",
    "size_summary_df[\"% Overall Passing\"] = size_summary_df[\"% Overall Passing\"].map(\"{:.2f}\".format)\n",
    "size_summary_df\n"
   ]
  },
  {
   "cell_type": "markdown",
   "id": "0f530ef7-80ed-41f0-800d-d2ce0eec7b61",
   "metadata": {},
   "source": [
    "## Scores by School Type"
   ]
  },
  {
   "cell_type": "code",
   "execution_count": null,
   "id": "74a2f617-0c08-4f9d-a0af-45e4918ab827",
   "metadata": {},
   "outputs": [],
   "source": [
    "# Calculate averages for the desired columns. \n",
    "type_math_scores = per_school_summary_df.groupby([\"School Type\"]).mean()[\"Average Math Score\"]\n",
    "type_reading_scores = per_school_summary_df.groupby([\"School Type\"]).mean()[\"Average Reading Score\"]\n",
    "type_passing_math = per_school_summary_df.groupby([\"School Type\"]).mean()[\"% Passing Math\"]\n",
    "type_passing_reading = per_school_summary_df.groupby([\"School Type\"]).mean()[\"% Passing Reading\"]\n",
    "type_overall_passing_scores = per_school_summary_df.groupby([\"School Type\"]).mean()[\"% Overall Passing\"]"
   ]
  },
  {
   "cell_type": "code",
   "execution_count": null,
   "id": "86e96720-3500-44ec-8cea-029b395072a5",
   "metadata": {},
   "outputs": [],
   "source": [
    "# Assemble into DataFrame. \n",
    "type_summary_df = pd.DataFrame({\n",
    "    \"Average Math Score\" : type_math_scores,\n",
    "    \"Average Reading Score\" : type_reading_scores,\n",
    "    \"%Passing Math\" : type_passing_math,\n",
    "    \"%Passing Reading\" : type_passing_reading,\n",
    "    \"% Overall Passing\" :type_overall_passing_scores})"
   ]
  },
  {
   "cell_type": "code",
   "execution_count": null,
   "id": "f28f9573-9c94-4f31-8558-76e32aafc680",
   "metadata": {},
   "outputs": [],
   "source": [
    "# # Format the DataFrame \n",
    "type_summary_df[\"Average Math Score\"] = type_summary_df[\"Average Math Score\"].map(\"{:.1f}\".format)\n",
    "type_summary_df[\"Average Reading Score\"] = type_summary_df[\"Average Reading Score\"].map(\"{:.1f}\".format)\n",
    "type_summary_df[\"%Passing Math\"] = type_summary_df[\"%Passing Math\"].map(\"{:.2f}\".format)\n",
    "type_summary_df[\"%Passing Reading\"] = type_summary_df[\"%Passing Reading\"].map(\"{:.2f}\".format)\n",
    "type_summary_df[\"% Overall Passing\"] = type_summary_df[\"% Overall Passing\"].map(\"{:.2f}\".format)\n",
    "type_summary_df\n"
   ]
  }
 ],
 "metadata": {
  "kernelspec": {
   "display_name": "Python 3 (ipykernel)",
   "language": "python",
   "name": "python3"
  },
  "language_info": {
   "codemirror_mode": {
    "name": "ipython",
    "version": 3
   },
   "file_extension": ".py",
   "mimetype": "text/x-python",
   "name": "python",
   "nbconvert_exporter": "python",
   "pygments_lexer": "ipython3",
   "version": "3.9.12"
  }
 },
 "nbformat": 4,
 "nbformat_minor": 5
}
